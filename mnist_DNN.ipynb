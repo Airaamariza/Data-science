{
 "cells": [
  {
   "cell_type": "code",
   "execution_count": 1,
   "metadata": {},
   "outputs": [],
   "source": [
    "from sklearn.datasets import fetch_openml\n",
    "mnist = fetch_openml('mnist_784', version=1, cache=True, as_frame=False)"
   ]
  },
  {
   "cell_type": "code",
   "execution_count": 2,
   "metadata": {},
   "outputs": [],
   "source": [
    "import tensorflow as tf\n",
    "from tensorflow import keras\n",
    "import numpy as np\n",
    "import matplotlib.pyplot as plt\n",
    "from sklearn.model_selection import train_test_split"
   ]
  },
  {
   "cell_type": "code",
   "execution_count": 3,
   "metadata": {},
   "outputs": [],
   "source": [
    "X = mnist[\"data\"]\n",
    "y = mnist[\"target\"].astype(np.int8)"
   ]
  },
  {
   "cell_type": "code",
   "execution_count": 4,
   "metadata": {},
   "outputs": [],
   "source": [
    "X_train_full, X_test, y_train_full, y_test = X[:60000], X[60000:], y[:60000], y[60000:]\n"
   ]
  },
  {
   "cell_type": "code",
   "execution_count": 5,
   "metadata": {},
   "outputs": [],
   "source": [
    "X_train, X_valid = train_test_split(X_train_full, test_size = 0.25, random_state = 42)\n",
    "y_train, y_valid = train_test_split(y_train_full, test_size = 0.25, random_state = 42)"
   ]
  },
  {
   "cell_type": "code",
   "execution_count": 6,
   "metadata": {},
   "outputs": [],
   "source": [
    "X_train_scaled = X_train / 255.0\n",
    "X_test_scaled = X_test / 255.0\n",
    "X_valid_scaled = X_valid / 255.0"
   ]
  },
  {
   "cell_type": "code",
   "execution_count": 7,
   "metadata": {},
   "outputs": [],
   "source": [
    "X_train_scaled = X_train_scaled.reshape(len(X_train_scaled), 28, 28)\n",
    "X_test_scaled = X_test_scaled.reshape(len(X_test_scaled), 28, 28)\n",
    "X_valid_scaled = X_valid_scaled.reshape(len(X_valid), 28, 28)"
   ]
  },
  {
   "cell_type": "markdown",
   "metadata": {},
   "source": [
    "DNN"
   ]
  },
  {
   "cell_type": "code",
   "execution_count": 32,
   "metadata": {},
   "outputs": [],
   "source": [
    "model = keras.models.Sequential([\n",
    "    keras.layers.Flatten(input_shape = [28,28]),  \n",
    "    keras.layers.Dropout(rate = 0.2), \n",
    "    keras.layers.Dense(300, activation = \"elu\", kernel_initializer = \"he_normal\"), #hidden1\n",
    "    keras.layers.Dropout(rate = 0.2),\n",
    "    keras.layers.Dense(100, activation = \"elu\", kernel_initializer = \"he_normal\"), #hidden2\n",
    "    keras.layers.Dropout(rate=0.2),\n",
    "    keras.layers.Dense(10, activation = \"softmax\",kernel_initializer = \"glorot_normal\"), #output\n",
    "])"
   ]
  },
  {
   "cell_type": "code",
   "execution_count": 33,
   "metadata": {},
   "outputs": [],
   "source": [
    "optimizer = keras.optimizers.Adam(learning_rate =0.001, beta_1=0.9, beta_2=0.999, decay=1e-4)"
   ]
  },
  {
   "cell_type": "code",
   "execution_count": 34,
   "metadata": {},
   "outputs": [],
   "source": [
    "model.compile(loss = \"sparse_categorical_crossentropy\",\n",
    "optimizer = optimizer , metrics = [\"accuracy\"])"
   ]
  },
  {
   "cell_type": "code",
   "execution_count": 35,
   "metadata": {},
   "outputs": [],
   "source": [
    "checkpoint_cb = keras.callbacks.ModelCheckpoint(\"my_mnist_model_new.h5\", \n",
    "                                                save_best_only=True)"
   ]
  },
  {
   "cell_type": "markdown",
   "metadata": {},
   "source": [
    "Training"
   ]
  },
  {
   "cell_type": "code",
   "execution_count": 36,
   "metadata": {},
   "outputs": [
    {
     "name": "stdout",
     "output_type": "stream",
     "text": [
      "Epoch 1/50\n",
      "1407/1407 [==============================] - 4s 2ms/step - loss: 0.3747 - accuracy: 0.8839 - val_loss: 0.1828 - val_accuracy: 0.9441\n",
      "Epoch 2/50\n",
      "1407/1407 [==============================] - 3s 2ms/step - loss: 0.2157 - accuracy: 0.9333 - val_loss: 0.1317 - val_accuracy: 0.9620\n",
      "Epoch 3/50\n",
      "1407/1407 [==============================] - 3s 2ms/step - loss: 0.1662 - accuracy: 0.9480 - val_loss: 0.1150 - val_accuracy: 0.9665\n",
      "Epoch 4/50\n",
      "1407/1407 [==============================] - 3s 2ms/step - loss: 0.1425 - accuracy: 0.9545 - val_loss: 0.0966 - val_accuracy: 0.9709\n",
      "Epoch 5/50\n",
      "1407/1407 [==============================] - 3s 2ms/step - loss: 0.1192 - accuracy: 0.9624 - val_loss: 0.0877 - val_accuracy: 0.9735\n",
      "Epoch 6/50\n",
      "1407/1407 [==============================] - 3s 2ms/step - loss: 0.1087 - accuracy: 0.9645 - val_loss: 0.0807 - val_accuracy: 0.9760\n",
      "Epoch 7/50\n",
      "1407/1407 [==============================] - 3s 2ms/step - loss: 0.0998 - accuracy: 0.9678 - val_loss: 0.0773 - val_accuracy: 0.9759\n",
      "Epoch 8/50\n",
      "1407/1407 [==============================] - 3s 2ms/step - loss: 0.0892 - accuracy: 0.9713 - val_loss: 0.0819 - val_accuracy: 0.9756\n",
      "Epoch 9/50\n",
      "1407/1407 [==============================] - 3s 2ms/step - loss: 0.0844 - accuracy: 0.9722 - val_loss: 0.0726 - val_accuracy: 0.9787\n",
      "Epoch 10/50\n",
      "1407/1407 [==============================] - 3s 2ms/step - loss: 0.0830 - accuracy: 0.9741 - val_loss: 0.0724 - val_accuracy: 0.9783\n",
      "Epoch 11/50\n",
      "1407/1407 [==============================] - 3s 2ms/step - loss: 0.0740 - accuracy: 0.9756 - val_loss: 0.0721 - val_accuracy: 0.9789\n",
      "Epoch 12/50\n",
      "1407/1407 [==============================] - 3s 2ms/step - loss: 0.0687 - accuracy: 0.9776 - val_loss: 0.0685 - val_accuracy: 0.9801\n",
      "Epoch 13/50\n",
      "1407/1407 [==============================] - 3s 2ms/step - loss: 0.0657 - accuracy: 0.9780 - val_loss: 0.0703 - val_accuracy: 0.9798\n",
      "Epoch 14/50\n",
      "1407/1407 [==============================] - 3s 2ms/step - loss: 0.0619 - accuracy: 0.9793 - val_loss: 0.0678 - val_accuracy: 0.9798\n",
      "Epoch 15/50\n",
      "1407/1407 [==============================] - 3s 2ms/step - loss: 0.0613 - accuracy: 0.9802 - val_loss: 0.0688 - val_accuracy: 0.9799\n",
      "Epoch 16/50\n",
      "1407/1407 [==============================] - 3s 2ms/step - loss: 0.0574 - accuracy: 0.9814 - val_loss: 0.0698 - val_accuracy: 0.9801\n",
      "Epoch 17/50\n",
      "1407/1407 [==============================] - 3s 2ms/step - loss: 0.0577 - accuracy: 0.9807 - val_loss: 0.0646 - val_accuracy: 0.9805\n",
      "Epoch 18/50\n",
      "1407/1407 [==============================] - 3s 2ms/step - loss: 0.0518 - accuracy: 0.9828 - val_loss: 0.0665 - val_accuracy: 0.9809\n",
      "Epoch 19/50\n",
      "1407/1407 [==============================] - 3s 2ms/step - loss: 0.0516 - accuracy: 0.9828 - val_loss: 0.0642 - val_accuracy: 0.9825\n",
      "Epoch 20/50\n",
      "1407/1407 [==============================] - 3s 2ms/step - loss: 0.0504 - accuracy: 0.9831 - val_loss: 0.0662 - val_accuracy: 0.9815\n",
      "Epoch 21/50\n",
      "1407/1407 [==============================] - 3s 2ms/step - loss: 0.0493 - accuracy: 0.9830 - val_loss: 0.0645 - val_accuracy: 0.9819\n",
      "Epoch 22/50\n",
      "1407/1407 [==============================] - 3s 2ms/step - loss: 0.0478 - accuracy: 0.9840 - val_loss: 0.0613 - val_accuracy: 0.9831\n",
      "Epoch 23/50\n",
      "1407/1407 [==============================] - 3s 2ms/step - loss: 0.0466 - accuracy: 0.9841 - val_loss: 0.0620 - val_accuracy: 0.9830\n",
      "Epoch 24/50\n",
      "1407/1407 [==============================] - 3s 2ms/step - loss: 0.0450 - accuracy: 0.9849 - val_loss: 0.0630 - val_accuracy: 0.9831\n",
      "Epoch 25/50\n",
      "1407/1407 [==============================] - 3s 2ms/step - loss: 0.0436 - accuracy: 0.9848 - val_loss: 0.0635 - val_accuracy: 0.9830\n",
      "Epoch 26/50\n",
      "1407/1407 [==============================] - 3s 2ms/step - loss: 0.0415 - accuracy: 0.9863 - val_loss: 0.0646 - val_accuracy: 0.9826\n",
      "Epoch 27/50\n",
      "1407/1407 [==============================] - 3s 2ms/step - loss: 0.0424 - accuracy: 0.9855 - val_loss: 0.0638 - val_accuracy: 0.9835\n",
      "Epoch 28/50\n",
      "1407/1407 [==============================] - 3s 2ms/step - loss: 0.0416 - accuracy: 0.9855 - val_loss: 0.0635 - val_accuracy: 0.9834\n",
      "Epoch 29/50\n",
      "1407/1407 [==============================] - 3s 2ms/step - loss: 0.0425 - accuracy: 0.9852 - val_loss: 0.0619 - val_accuracy: 0.9833\n",
      "Epoch 30/50\n",
      "1407/1407 [==============================] - 3s 2ms/step - loss: 0.0388 - accuracy: 0.9868 - val_loss: 0.0624 - val_accuracy: 0.9841\n",
      "Epoch 31/50\n",
      "1407/1407 [==============================] - 4s 3ms/step - loss: 0.0408 - accuracy: 0.9863 - val_loss: 0.0603 - val_accuracy: 0.9837\n",
      "Epoch 32/50\n",
      "1407/1407 [==============================] - 3s 2ms/step - loss: 0.0368 - accuracy: 0.9879 - val_loss: 0.0612 - val_accuracy: 0.9836\n",
      "Epoch 33/50\n",
      "1407/1407 [==============================] - 3s 2ms/step - loss: 0.0360 - accuracy: 0.9872 - val_loss: 0.0624 - val_accuracy: 0.9835\n",
      "Epoch 34/50\n",
      "1407/1407 [==============================] - 3s 2ms/step - loss: 0.0348 - accuracy: 0.9884 - val_loss: 0.0609 - val_accuracy: 0.9848\n",
      "Epoch 35/50\n",
      "1407/1407 [==============================] - 3s 2ms/step - loss: 0.0370 - accuracy: 0.9868 - val_loss: 0.0608 - val_accuracy: 0.9841\n",
      "Epoch 36/50\n",
      "1407/1407 [==============================] - 3s 2ms/step - loss: 0.0368 - accuracy: 0.9880 - val_loss: 0.0615 - val_accuracy: 0.9839\n",
      "Epoch 37/50\n",
      "1407/1407 [==============================] - 3s 2ms/step - loss: 0.0347 - accuracy: 0.9882 - val_loss: 0.0622 - val_accuracy: 0.9830\n",
      "Epoch 38/50\n",
      "1407/1407 [==============================] - 3s 2ms/step - loss: 0.0352 - accuracy: 0.9876 - val_loss: 0.0630 - val_accuracy: 0.9839\n",
      "Epoch 39/50\n",
      "1407/1407 [==============================] - 3s 2ms/step - loss: 0.0321 - accuracy: 0.9892 - val_loss: 0.0633 - val_accuracy: 0.9843\n",
      "Epoch 40/50\n",
      "1407/1407 [==============================] - 3s 2ms/step - loss: 0.0335 - accuracy: 0.9885 - val_loss: 0.0607 - val_accuracy: 0.9837\n",
      "Epoch 41/50\n",
      "1407/1407 [==============================] - 3s 2ms/step - loss: 0.0336 - accuracy: 0.9895 - val_loss: 0.0622 - val_accuracy: 0.9842\n",
      "Epoch 42/50\n",
      "1407/1407 [==============================] - 3s 2ms/step - loss: 0.0334 - accuracy: 0.9884 - val_loss: 0.0608 - val_accuracy: 0.9839\n",
      "Epoch 43/50\n",
      "1407/1407 [==============================] - 3s 2ms/step - loss: 0.0303 - accuracy: 0.9894 - val_loss: 0.0596 - val_accuracy: 0.9845\n",
      "Epoch 44/50\n",
      "1407/1407 [==============================] - 3s 2ms/step - loss: 0.0310 - accuracy: 0.9895 - val_loss: 0.0620 - val_accuracy: 0.9843\n",
      "Epoch 45/50\n",
      "1407/1407 [==============================] - 4s 3ms/step - loss: 0.0305 - accuracy: 0.9894 - val_loss: 0.0615 - val_accuracy: 0.9847\n",
      "Epoch 46/50\n",
      "1407/1407 [==============================] - 4s 3ms/step - loss: 0.0328 - accuracy: 0.9886 - val_loss: 0.0598 - val_accuracy: 0.9846\n",
      "Epoch 47/50\n",
      "1407/1407 [==============================] - 4s 3ms/step - loss: 0.0311 - accuracy: 0.9888 - val_loss: 0.0621 - val_accuracy: 0.9844\n",
      "Epoch 48/50\n",
      "1407/1407 [==============================] - 4s 3ms/step - loss: 0.0290 - accuracy: 0.9902 - val_loss: 0.0602 - val_accuracy: 0.9846\n",
      "Epoch 49/50\n",
      "1407/1407 [==============================] - 4s 3ms/step - loss: 0.0304 - accuracy: 0.9892 - val_loss: 0.0601 - val_accuracy: 0.9847\n",
      "Epoch 50/50\n",
      "1407/1407 [==============================] - 4s 3ms/step - loss: 0.0304 - accuracy: 0.9895 - val_loss: 0.0610 - val_accuracy: 0.9840\n"
     ]
    }
   ],
   "source": [
    "history = model.fit(X_train_scaled, y_train, epochs = 50,\n",
    "validation_data = (X_valid_scaled, y_valid), batch_size = 32,\n",
    "callbacks = [checkpoint_cb]\n",
    ")"
   ]
  },
  {
   "cell_type": "code",
   "execution_count": 37,
   "metadata": {},
   "outputs": [
    {
     "name": "stdout",
     "output_type": "stream",
     "text": [
      "313/313 [==============================] - 0s 1ms/step - loss: 0.0517 - accuracy: 0.9850\n"
     ]
    },
    {
     "data": {
      "text/plain": [
       "[0.05168695002794266, 0.9850000143051147]"
      ]
     },
     "execution_count": 37,
     "metadata": {},
     "output_type": "execute_result"
    }
   ],
   "source": [
    "model = keras.models.load_model(\"my_mnist_model_new.h5\")\n",
    "model.evaluate(X_test_scaled, y_test)"
   ]
  },
  {
   "cell_type": "code",
   "execution_count": 38,
   "metadata": {},
   "outputs": [
    {
     "name": "stdout",
     "output_type": "stream",
     "text": [
      "313/313 [==============================] - 0s 945us/step\n"
     ]
    }
   ],
   "source": [
    "y_pred = np.argmax(model.predict(X_test_scaled), axis = -1) #predictions"
   ]
  },
  {
   "cell_type": "markdown",
   "metadata": {},
   "source": [
    "We finish the task with an accuracy of 98.50%"
   ]
  }
 ],
 "metadata": {
  "kernelspec": {
   "display_name": "Python 3.7.6 ('base')",
   "language": "python",
   "name": "python3"
  },
  "language_info": {
   "codemirror_mode": {
    "name": "ipython",
    "version": 3
   },
   "file_extension": ".py",
   "mimetype": "text/x-python",
   "name": "python",
   "nbconvert_exporter": "python",
   "pygments_lexer": "ipython3",
   "version": "3.7.6"
  },
  "orig_nbformat": 4,
  "vscode": {
   "interpreter": {
    "hash": "fb4b0092f7712d253ca4369a8f22bfff1762c0c05e95f15980b53f2a31ac9238"
   }
  }
 },
 "nbformat": 4,
 "nbformat_minor": 2
}
